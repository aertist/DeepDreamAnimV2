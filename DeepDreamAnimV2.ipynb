{
  "nbformat": 4,
  "nbformat_minor": 0,
  "metadata": {
    "accelerator": "GPU",
    "colab": {
      "name": "DeepDreamAnimV2.ipynb",
      "provenance": [],
      "collapsed_sections": [
        "_0RBvIoV__Bh",
        "nuE_oxTkcT1w",
        "L_MTbJztwTuY"
      ],
      "authorship_tag": "ABX9TyMbN4MPzMdj6QEbgSNbI4Bd",
      "include_colab_link": true
    },
    "kernelspec": {
      "display_name": "Python 3",
      "name": "python3"
    }
  },
  "cells": [
    {
      "cell_type": "markdown",
      "metadata": {
        "id": "view-in-github",
        "colab_type": "text"
      },
      "source": [
        "<a href=\"https://colab.research.google.com/github/aertist/DeepDreamAnimV2/blob/main/DeepDreamAnimV2.ipynb\" target=\"_parent\"><img src=\"https://colab.research.google.com/assets/colab-badge.svg\" alt=\"Open In Colab\"/></a>"
      ]
    },
    {
      "cell_type": "markdown",
      "metadata": {
        "id": "nuE_oxTkcT1w"
      },
      "source": [
        "#**Clone Repo**"
      ]
    },
    {
      "cell_type": "code",
      "metadata": {
        "id": "Yqfe8LbHL-ZY"
      },
      "source": [
        "!git clone https://github.com/aertist/DeepDreamAnimV2.git -q"
      ],
      "execution_count": null,
      "outputs": []
    },
    {
      "cell_type": "code",
      "metadata": {
        "colab": {
          "base_uri": "https://localhost:8080/"
        },
        "id": "brvGHQJtu6tD",
        "outputId": "f04eb7a7-aa06-4f86-f850-0b0648f573f5"
      },
      "source": [
        "cd /content/DeepDreamAnimV2"
      ],
      "execution_count": null,
      "outputs": [
        {
          "output_type": "stream",
          "text": [
            "/content/DeepDreamAnimV2\n"
          ],
          "name": "stdout"
        }
      ]
    },
    {
      "cell_type": "markdown",
      "metadata": {
        "id": "L_MTbJztwTuY"
      },
      "source": [
        "#**Models**"
      ]
    },
    {
      "cell_type": "markdown",
      "metadata": {
        "id": "BlZR1EULOab_"
      },
      "source": [
        "**GoogleNet**"
      ]
    },
    {
      "cell_type": "markdown",
      "metadata": {
        "id": "RtfG4CooWI5e"
      },
      "source": [
        "bvlc googlenet *(for doggos, eyes, snakes, fish)*"
      ]
    },
    {
      "cell_type": "code",
      "metadata": {
        "id": "skujTF9Viit-"
      },
      "source": [
        "!wget https://www.dropbox.com/s/tprraucwgow2d88/bvlc_googlenet.caffemodel\r\n",
        "!mv /content/DeepDreamAnimV2/bvlc_googlenet.caffemodel /content/DeepDreamAnimV2/models/bvlc_googlenet"
      ],
      "execution_count": null,
      "outputs": []
    },
    {
      "cell_type": "markdown",
      "metadata": {
        "id": "g-bvtQhfaHXX"
      },
      "source": [
        "\r\n",
        "\r\n",
        "---\r\n",
        "\r\n",
        "---\r\n",
        "\r\n",
        "\r\n",
        "\r\n"
      ]
    },
    {
      "cell_type": "markdown",
      "metadata": {
        "id": "KsD3QMEkcdT4"
      },
      "source": [
        "#**Deep Dream Anim V2**"
      ]
    },
    {
      "cell_type": "markdown",
      "metadata": {
        "id": "3GVbQOU656_7"
      },
      "source": [
        "Place your video in **DeepDreamAnimV2/myvideo** then run this cell"
      ]
    },
    {
      "cell_type": "code",
      "metadata": {
        "id": "kLd-9AvLPHLJ",
        "cellView": "form"
      },
      "source": [
        "#@title ◀ **This will split the video in frames**\n",
        "!python dreamer.py \\\n",
        "--input myvideo/input.mp4 \\\n",
        "--output myvideo/inframes \\\n",
        "--extract 1 \\"
      ],
      "execution_count": null,
      "outputs": []
    },
    {
      "cell_type": "markdown",
      "metadata": {
        "id": "bBbWYr2CbHmn"
      },
      "source": [
        "\r\n",
        "\r\n",
        "---\r\n",
        "\r\n",
        "---\r\n",
        "\r\n",
        "\r\n",
        "\r\n"
      ]
    },
    {
      "cell_type": "code",
      "metadata": {
        "id": "z1O_XU9bZQ1c"
      },
      "source": [
        "#@title ◀ **Deep Dream Animator** { display-mode: \"form\" }\n",
        "#@markdown Settings:\n",
        "\n",
        "layer1 = \"\" #@param {type:\"string\"}\n",
        "layer2 = \"inception_4c/output\" #@param {type:\"string\"}\n",
        "layer3 = \"\" #@param {type:\"string\"}\n",
        "layer4 = \"\" #@param {type:\"string\"}\n",
        "layer5 = \"\" #@param {type:\"string\"}\n",
        "\n",
        "#@markdown ---\n",
        "model_name = \"bvlc_googlenet\" #@param [\"bvlc_googlenet\"]\n",
        "iterations = 6 #@param {type:\"slider\", min:0, max:50, step:2}\n",
        "octaves = 3 #@param {type:\"slider\", min:1, max:10, step:1}\n",
        "octave_scale = 1.1 #@param {type:\"slider\", min:0, max:5, step:0.1}\n",
        "jitter = 16 #@param {type:\"slider\", min:0, max:128, step:16}\n",
        "step_size = 0.8 #@param {type:\"slider\", min:0, max:5, step:0.1}\n",
        "zoom = 0 #@param {type:\"slider\", min:0, max:10, step:1}\n",
        "guide_img = \"galaxy\" #@param {type:\"string\"}\n",
        "guide_img_fmt = \".jpg\" #@param [\".jpg\", \".jpeg\"]\n",
        "flow = 1 #@param [\"0\", \"1\"] {type:\"raw\"}\n",
        "\n",
        "\n",
        "#These are classic deepdream settings:\n",
        "!python dreamer.py \\\n",
        "-gpu 1 \\\n",
        "-m /content/DeepDreamAnimV2/models \\\n",
        "-i myvideo/inframes \\\n",
        "-o myvideo/outframes \\\n",
        "-mn {model_name} \\\n",
        "-itr {iterations} \\\n",
        "-oct {octaves} \\\n",
        "-octs {octave_scale} \\\n",
        "-j {jitter} \\\n",
        "-s {step_size} \\\n",
        "-z {zoom} \\\n",
        "-l {layer1} {layer2} {layer3} {layer4} {layer5} \\\n",
        "--flow {flow} \\\n",
        "-flowthresh 6 \\\n",
        "--blendflow 0.9 \\\n",
        "--blendstatic 0.1 \\\n",
        "-d 0 \\\n",
        "-mw 1500 \\\n",
        "--guide {guide_img}{guide_img_fmt} \\"
      ],
      "execution_count": null,
      "outputs": []
    },
    {
      "cell_type": "markdown",
      "metadata": {
        "id": "aSgjBrCaATsO"
      },
      "source": [
        "\r\n",
        "\r\n",
        "---\r\n",
        "\r\n",
        "---\r\n",
        "\r\n",
        "\r\n",
        "\r\n"
      ]
    },
    {
      "cell_type": "code",
      "metadata": {
        "id": "bNfbtAhW3owr",
        "cellView": "form"
      },
      "source": [
        "#@title ◀ **This will create the video back**   (change the fps according to your video)\n",
        "framerate = 30 #@param [\"30\", \"60\", \"24\", \"25\"] {type:\"raw\"}\n",
        "\n",
        "!python dreamer.py \\\n",
        "--input myvideo/outframes \\\n",
        "--output myvideo/deepdreamvideo.mp4 \\\n",
        "--create 1 \\\n",
        "--framerate {framerate} \\"
      ],
      "execution_count": null,
      "outputs": []
    },
    {
      "cell_type": "markdown",
      "metadata": {
        "id": "eAHByInqZM2x"
      },
      "source": [
        "---\r\n",
        "\r\n",
        "---\r\n",
        "\r\n"
      ]
    },
    {
      "cell_type": "code",
      "metadata": {
        "id": "0ft1diBivzCT"
      },
      "source": [
        "#@title #**Clear the folders for next run** { display-mode: \"form\" }\n",
        "folder_name = \"inframes\" #@param [\"outframes\", \"inframes\"]\n",
        "\n",
        "!rm -rf /content/DeepDreamAnimV2/myvideo/{folder_name}\n",
        "!mkdir /content/DeepDreamAnimV2/myvideo/{folder_name}"
      ],
      "execution_count": null,
      "outputs": []
    },
    {
      "cell_type": "markdown",
      "metadata": {
        "id": "9J9xYj-m_Mwx"
      },
      "source": [
        "\r\n",
        "\r\n",
        "---\r\n",
        "\r\n",
        "---\r\n",
        "\r\n",
        "\r\n",
        "\r\n"
      ]
    }
  ]
}